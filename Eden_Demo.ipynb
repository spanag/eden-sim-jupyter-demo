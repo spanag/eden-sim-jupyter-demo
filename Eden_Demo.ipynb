{
 "cells": [
  {
   "cell_type": "markdown",
   "metadata": {},
   "source": [
    "# EDEN - NeuroML - Jupyter Live Demonstration\n",
    "\n",
    "EDEN is a novel high-usability, high-performance simulator for spiking neural networks. It supports all kinds of neural networks expressed in [NeuroML v2](https://neuroml.org/neuromlv2), whether they contained biophysically-modelled neurons, or artificial ones.\n",
    "\n",
    "\n",
    "Correspondence e-mail: s.panagiotou@erasmusmc.nl\n",
    "\n",
    "EDEN was developed by the following research institutions:\n",
    "- [Microprocessors & Digital Systems Lab, National Technical University of Athens](http://www.microlab.ntua.gr)\n",
    "- [Neurocomputing Lab, Erasmus University Medical Centre Rotterdam](http://neurocomputinglab.com)\n",
    "\n",
    "\n",
    "---\n",
    "\n",
    "The NeuroML networks used for demonstration are available in this notebook environment, in the following directories:\n",
    "\n",
    "- Izhikevich-based M1 model ([NMLNT001656](https://neuroml-db.org/model_info?model_id=NMLNT001656), Dura-Bernal et al. 2017), in [M1Network/](M1Network/)\n",
    "    - LEMS starter file for 5% scale network: [M1Network/LEMS_M1_5percent.xml](M1Network/LEMS_M1_5percent.xml)\n",
    "- Multi-compartment GCL ([NMLNT000001](https://neuroml-db.org/model_info?model_id=NMLNT000001)) in [GranCellLayer/](GranCellLayer/)\n",
    "    - LEMS starter file for original-scale network: [GranCellLayer/generatedNeuroML2/LEMS_GranCellLayer.xml](GranCellLayer/generatedNeuroML2/LEMS_GranCellLayer.xml)\n",
    "- Cerebellar input layer GoC network: ([NMLNT000001](https://neuroml-db.org/model_info?model_id=NMLNT000001)) in [Vervaeke_GoC/]\n",
    "    - LEMS starter file for original-scale network: [Vervaeke_GoC/LEMS_VervaekeEtAl-GolgiCellNetwork.xml](Vervaeke_GoC/LEMS_VervaekeEtAl-GolgiCellNetwork.xml)\n",
    "\n",
    "Due to differences in the neurite discretizations between simulators, the original dendritic structures were cast on a one-compartment-per-segment basis, using [neuroConstruct](http://neuroconstruct.org/).\n",
    "This way, the simulation and computational-speed results of EDEN and e.g. NEURON can be directly compared, on the same set of neural compartments describing each network.\n",
    "\n",
    "---"
   ]
  },
  {
   "cell_type": "markdown",
   "metadata": {},
   "source": [
    "### Running simulations with EDEN, and plotting the results\n",
    "First, let's set up the paths to each network's the starter file, as Python variables:"
   ]
  },
  {
   "cell_type": "code",
   "execution_count": null,
   "metadata": {},
   "outputs": [],
   "source": [
    "filename_M1_5percent = \"M1Network/LEMS_M1_5percent.xml\"\n",
    "filename_GCL = \"GranCellLayer/LEMS_GranCellLayer.xml\"\n",
    "filename_cGoC = \"Vervaeke_GoC/LEMS_VervaekeEtAl-GolgiCellNetwork.xml\""
   ]
  },
  {
   "cell_type": "markdown",
   "metadata": {},
   "source": [
    "And also, set up a helper subroutine to visualize the raster plots."
   ]
  },
  {
   "cell_type": "code",
   "execution_count": null,
   "metadata": {},
   "outputs": [],
   "source": [
    "%matplotlib inline\n",
    "def make_rasterplot( results, title ):\n",
    "    import numpy as np\n",
    "    \n",
    "    import matplotlib\n",
    "    import matplotlib.pyplot as plt\n",
    "    \n",
    "    # Filter results except for time\n",
    "    keys = [ x for x in results.keys() if x != 't' ]\n",
    "    \n",
    "    # Now gather the time series and convert them into a matrix for imshow\n",
    "    res = [ results[ key ] for key in keys ]\n",
    "    res = np.array(res)\n",
    "    \n",
    "    # And show the resutls as a raster plot\n",
    "    im = plt.imshow(res, aspect='auto', interpolation='none', extent=[ results['t'][0], results['t'][-1], res.shape[0]-1,0 ])\n",
    "    plt.xlabel('Time(seconds)')\n",
    "    plt.ylabel('Trace #')\n",
    "    \n",
    "    if title is not None:\n",
    "        plt.title(title)\n",
    "    \n",
    "    plt.show()"
   ]
  },
  {
   "cell_type": "markdown",
   "metadata": {},
   "source": [
    "Then, load the Python package for EDEN, so we can run it and gather the simulation results from within Python.\n",
    "\n",
    "It also includes a pyNeuroML-based shortcut, to run jNeuroML/NEURON with the same run options as EDEN."
   ]
  },
  {
   "cell_type": "code",
   "execution_count": null,
   "metadata": {},
   "outputs": [],
   "source": [
    "import eden_tools"
   ]
  },
  {
   "cell_type": "markdown",
   "metadata": {},
   "source": [
    "Now, we can run EDEN with the `eden_tools.runEden` function. Or (optionally) NEURON, with the `eden_tools.runNeuron` function\n",
    "\n",
    "Just specify the path to the LEMS file starting the simulation, and optionally other parameters such as `threads` to be used (for EDEN). "
   ]
  },
  {
   "cell_type": "markdown",
   "metadata": {},
   "source": [
    "The following snippets will run EDEN for each network in the demo (M1, GCL and cGoC), and plot the resulting raster plots for each case.\n",
    "\n",
    "A nominal amount of concurrent processing threads is set, for the expected resources available on [Binder](http://mybinder.org). You can change the number for use on your own computer, or to examine the effect of multi-threading on simulation speedup. Given more CPU cores, EDEN can go even faster."
   ]
  },
  {
   "cell_type": "code",
   "execution_count": null,
   "metadata": {
    "scrolled": true
   },
   "outputs": [],
   "source": [
    "eden_results_M1 = eden_tools.runEden(filename_M1_5percent, verbose = True, threads = 4)\n",
    "make_rasterplot(eden_results_M1, \"Results for M1 network, using EDEN\")"
   ]
  },
  {
   "cell_type": "code",
   "execution_count": null,
   "metadata": {},
   "outputs": [],
   "source": [
    "eden_results_GCL = eden_tools.runEden(filename_GCL, verbose = True, threads = 4)\n",
    "make_rasterplot(eden_results_GCL, \"Results for GCL network, using EDEN\")"
   ]
  },
  {
   "cell_type": "code",
   "execution_count": null,
   "metadata": {},
   "outputs": [],
   "source": [
    "eden_results_cGoC = eden_tools.runEden(filename_cGoC, verbose = True, threads = 4)\n",
    "make_rasterplot(eden_results_cGoC, \"Results for cGoC network, using EDEN\")"
   ]
  },
  {
   "cell_type": "markdown",
   "metadata": {},
   "source": [
    "---\n",
    "### Running the same simulations on jNeuroML/NEURON\n",
    "\n",
    "Now, you can run the same simulations using NEURON (through the jNeuroML exporter). This way, you check the generated raster plots against the results provided by EDEN, above.\n",
    "\n",
    "**Note:** Running NEURON may take much longer than running EDEN took, for physical cells - please be patient."
   ]
  },
  {
   "cell_type": "code",
   "execution_count": null,
   "metadata": {},
   "outputs": [],
   "source": [
    "neuron_results_M1 = eden_tools.runNeuron(filename_M1_5percent, verbose = True)\n",
    "make_rasterplot(neuron_results_M1, \"Results for M1 network, using NEURON\")"
   ]
  },
  {
   "cell_type": "code",
   "execution_count": null,
   "metadata": {},
   "outputs": [],
   "source": [
    "neuron_results_GCL = eden_tools.runNeuron(filename_GCL, verbose = True)\n",
    "make_rasterplot(neuron_results_GCL, \"Results for GCL network, using NEURON\")"
   ]
  },
  {
   "cell_type": "code",
   "execution_count": null,
   "metadata": {},
   "outputs": [],
   "source": [
    "neuron_results_cGoC = eden_tools.runNeuron(filename_cGoC, verbose = True)\n",
    "make_rasterplot(neuron_results_cGoC, \"Results for cGoC network, using NEURON\")"
   ]
  },
  {
   "cell_type": "markdown",
   "metadata": {},
   "source": [
    "---"
   ]
  },
  {
   "cell_type": "markdown",
   "metadata": {},
   "source": [
    "The space below is intentionally left blank.\n",
    "\n",
    "Feel free to run your own commands here,\n",
    "and also upload your own NeuroML models in the [working space](./) (on your left using JupyterLab)\n",
    "to try them out.\n",
    "\n",
    "For any questions, or suggestions, contact the author at: s.panagiotou@erasmusmc.nl\n",
    "\n",
    "\n"
   ]
  },
  {
   "cell_type": "code",
   "execution_count": null,
   "metadata": {},
   "outputs": [],
   "source": [
    "\n",
    "\n",
    "\n",
    "\n"
   ]
  },
  {
   "cell_type": "code",
   "execution_count": null,
   "metadata": {},
   "outputs": [],
   "source": []
  },
  {
   "cell_type": "code",
   "execution_count": null,
   "metadata": {},
   "outputs": [],
   "source": []
  }
 ],
 "metadata": {
  "kernelspec": {
   "display_name": "Python 3",
   "language": "python",
   "name": "python3"
  },
  "language_info": {
   "codemirror_mode": {
    "name": "ipython",
    "version": 3
   },
   "file_extension": ".py",
   "mimetype": "text/x-python",
   "name": "python",
   "nbconvert_exporter": "python",
   "pygments_lexer": "ipython3",
   "version": "3.7.6"
  }
 },
 "nbformat": 4,
 "nbformat_minor": 4
}
